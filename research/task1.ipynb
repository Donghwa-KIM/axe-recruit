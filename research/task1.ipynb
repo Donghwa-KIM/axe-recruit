{
 "cells": [
  {
   "cell_type": "markdown",
   "metadata": {},
   "source": [
    "# 주문집행 시뮬레이션\n",
    "- 크레프트 태크놀로지스 AXE 팀은 주문집행 문제를 강화학습을 통해 해결합니다.\n",
    "- 하지만 기존의 toy project와는 다르게, 실제 상황에 강화학습을 적용하는 시도는 생각보다 많은 장애물을 마주하게 됩니다.\n",
    "- 이 샘플 태스크는 그 응용력을 아주 간단한 범위에서 시험합니다.\n",
    "\n",
    "**주의 : '완벽하게' 푸는 것이 이 태스크의 목적은 아닙니다. 무엇보다, 자신의 생각을 코드로 구현하려는 시도가 중요합니다.**\n"
   ]
  },
  {
   "cell_type": "code",
   "execution_count": 1,
   "metadata": {},
   "outputs": [],
   "source": [
    "# 주문집행 시뮬레이션 모듈 import\n",
    "from env import OrderSimulation1, OrderSimulation2"
   ]
  },
  {
   "cell_type": "code",
   "execution_count": 2,
   "metadata": {},
   "outputs": [],
   "source": [
    "# 주문 집행 시뮬레이션 인스턴스입니다.\n",
    "# 각 reset마다 랜덤으로 (사야하는 주식의 수 / 타임 스텝) 을 설정합니다.\n",
    "# 목표는, 최소 비용으로 주식을 구매하는 것 입니다.\n",
    "env = OrderSimulation1()"
   ]
  },
  {
   "cell_type": "markdown",
   "metadata": {},
   "source": [
    "## 함수 스펙 설명"
   ]
  },
  {
   "cell_type": "code",
   "execution_count": 3,
   "metadata": {
    "scrolled": true
   },
   "outputs": [
    {
     "name": "stdout",
     "output_type": "stream",
     "text": [
      "호가창 길이: 5\n"
     ]
    },
    {
     "data": {
      "text/plain": [
       "326000    131\n",
       "327000    172\n",
       "328000     10\n",
       "329000    193\n",
       "330000     26\n",
       "331000     17\n",
       "dtype: int64"
      ]
     },
     "execution_count": 3,
     "metadata": {},
     "output_type": "execute_result"
    }
   ],
   "source": [
    "# reset -> 초기 호가정보 반환[5개의 time frame][매수 3호가 ~ 매도 3호가]\n",
    "order_books = env.reset()\n",
    "print(\"호가창 길이: {}\".format(len(order_books)))\n",
    "order_books[-1]"
   ]
  },
  {
   "cell_type": "code",
   "execution_count": 4,
   "metadata": {},
   "outputs": [
    {
     "data": {
      "text/plain": [
       "{'total_step': 10, 'mission_buy': 269}"
      ]
     },
     "execution_count": 4,
     "metadata": {},
     "output_type": "execute_result"
    }
   ],
   "source": [
    "# mission_info -> 현재 episode 의 목표 구매 수량과 maximum time step\n",
    "env.mission_info()"
   ]
  },
  {
   "cell_type": "code",
   "execution_count": 5,
   "metadata": {
    "scrolled": true
   },
   "outputs": [
    {
     "data": {
      "text/plain": [
       "326000    20\n",
       "327000    10\n",
       "328000    30\n",
       "329000     5\n",
       "dtype: int64"
      ]
     },
     "execution_count": 5,
     "metadata": {},
     "output_type": "execute_result"
    }
   ],
   "source": [
    "# step -> action(매수 1호가 주문, 매수 2호가 주문, 매수 3호가 주문, 시장가 주문) 을 받아 시뮬레이션을 처리\n",
    "# 편의상 step 후 체결되지 않은 주문은 모두 취소함을 가정합니다.\n",
    "# 반환 : 새로운 호가창 시퀀스(1~4번쨰는 이전 시퀀스의 2~5번쨰 항목과 동일), 이번 기 매수체결 정보, 전체 기 매수체결 정보.\n",
    "# 모든 주문은 기존에 호가창에 있는 대기 잔량이 체결된 후에 체결됩니다. 주문이 무조건적으로 체결되는 것이 아닙니다.\n",
    "# 필요 수량 이상으로 주문하는 경우 에러가 발생합니다.\n",
    "order_books, executed_this_step, executed_every_step = env.step([30, 10, 20, 5])\n",
    "executed_this_step"
   ]
  },
  {
   "cell_type": "code",
   "execution_count": 6,
   "metadata": {
    "scrolled": true
   },
   "outputs": [
    {
     "data": {
      "text/plain": [
       "[325000     70\n",
       " 326000    151\n",
       " 327000    172\n",
       " 328000    144\n",
       " 329000     67\n",
       " 330000      8\n",
       " dtype: int64,\n",
       " 324000     39\n",
       " 325000     84\n",
       " 326000    184\n",
       " 327000     79\n",
       " 328000     82\n",
       " 329000    122\n",
       " dtype: int64,\n",
       " 323000     32\n",
       " 324000     68\n",
       " 325000     67\n",
       " 326000     22\n",
       " 327000    132\n",
       " 328000    154\n",
       " dtype: int64,\n",
       " 324000    120\n",
       " 325000    121\n",
       " 326000    165\n",
       " 327000    167\n",
       " 328000     12\n",
       " 329000     53\n",
       " dtype: int64,\n",
       " 324000    191\n",
       " 325000    107\n",
       " 326000     85\n",
       " 327000     73\n",
       " 328000    134\n",
       " 329000     80\n",
       " dtype: int64,\n",
       " 324000     97\n",
       " 325000    159\n",
       " 326000     68\n",
       " 327000    156\n",
       " 328000      4\n",
       " 329000    172\n",
       " dtype: int64,\n",
       " 325000    126\n",
       " 326000     75\n",
       " 327000     79\n",
       " 328000     90\n",
       " 329000     17\n",
       " 330000    182\n",
       " dtype: int64,\n",
       " 325000     80\n",
       " 326000     92\n",
       " 327000    160\n",
       " 328000     38\n",
       " 329000     90\n",
       " 330000    124\n",
       " dtype: int64,\n",
       " 323000     43\n",
       " 324000    176\n",
       " 325000    188\n",
       " 326000     55\n",
       " 327000     53\n",
       " 328000    137\n",
       " dtype: int64]"
      ]
     },
     "execution_count": 6,
     "metadata": {},
     "output_type": "execute_result"
    }
   ],
   "source": [
    "# get_left_observation() 은 일종의 치트 메소드 입니다.\n",
    "# 현재부터 episode의 끝까지 발생할 다음 호가창 상태를 미리 알려줍니다.\n",
    "# (이 환경은 상태전이와 action의 독립을 가정하고 있습니다)\n",
    "env.get_left_observation()"
   ]
  },
  {
   "cell_type": "markdown",
   "metadata": {},
   "source": [
    "# Task - 리워드가 없는데요\n",
    "강화학습의 핵심은 reward입니다. <br/>\n",
    "하지만 보시다 시피 주문집행에서 reset과 step은 명시적인 reward를 반환하지 않습니다.(사소하지만 done 역시 마찬가지입니다.) <br/>\n",
    "기존 OrderSimulation class를 이용, 아래 형식에 맞추어 Gym 환경을 다시 정의해보십시오.<br/>\n",
    "\n",
    "\n",
    "*HINT* : 이 simulation은 학습을 위한 gym입니다. <br/>\n",
    "action을 결정하는 데는 사용해서는 안 되지만, reward를 계산하는 데 미래 데이터를 쓰는데 주저하지 마십시오!\n",
    "\n",
    "*WARNING* : 정답은 없습니다. 그럴 듯한 학습 목표를 세우는 데 초점을 맞추시면 됩니다."
   ]
  },
  {
   "cell_type": "code",
   "execution_count": null,
   "metadata": {},
   "outputs": [],
   "source": [
    "class OrderGym:\n",
    "    \n",
    "    # TODO\n",
    "    # return: state, reward, done, info\n",
    "    def reset(self, action):\n",
    "        raise NotImplementedError\n",
    "\n",
    "    # TODO\n",
    "    # return: state, reward, done, info\n",
    "    def step(self, action):\n",
    "        raise NotImplementedError"
   ]
  }
 ],
 "metadata": {
  "kernelspec": {
   "display_name": "Python 3",
   "language": "python",
   "name": "python3"
  },
  "language_info": {
   "codemirror_mode": {
    "name": "ipython",
    "version": 3
   },
   "file_extension": ".py",
   "mimetype": "text/x-python",
   "name": "python",
   "nbconvert_exporter": "python",
   "pygments_lexer": "ipython3",
   "version": "3.7.6"
  }
 },
 "nbformat": 4,
 "nbformat_minor": 4
}
