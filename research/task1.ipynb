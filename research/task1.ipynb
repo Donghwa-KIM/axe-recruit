{
 "cells": [
  {
   "cell_type": "markdown",
   "metadata": {},
   "source": [
    "# 주문집행 시뮬레이션\n",
    "- 크레프트 태크놀로지스 AXE 팀은 주문집행 문제를 강화학습을 통해 해결합니다.\n",
    "- 하지만 기존의 toy project와는 다르게, 실제 상황에 강화학습을 적용하는 시도는 생각보다 많은 장애물을 마주하게 됩니다.\n",
    "- 이 샘플 태스크는 그 응용력을 아주 간단한 범위에서 시험합니다.\n",
    "\n",
    "**주의 : '완벽하게' 푸는 것이 이 태스크의 목적은 아닙니다. 무엇보다, 자신의 생각을 코드로 구현하려는 시도가 중요합니다.**\n"
   ]
  },
  {
   "cell_type": "code",
   "execution_count": 1,
   "metadata": {},
   "outputs": [],
   "source": [
    "# 주문집행 시뮬레이션 모듈 import\n",
    "from env import OrderSimulation1, OrderSimulation2"
   ]
  },
  {
   "cell_type": "code",
   "execution_count": 2,
   "metadata": {},
   "outputs": [],
   "source": [
    "# 주문 집행 시뮬레이션 인스턴스입니다.\n",
    "# 각 reset마다 랜덤으로 (사야하는 주식의 수 / 타임 스텝) 을 설정합니다.\n",
    "# 목표는, 최소 비용으로 주식을 구매하는 것 입니다.\n",
    "env = OrderSimulation1()"
   ]
  },
  {
   "cell_type": "markdown",
   "metadata": {},
   "source": [
    "## 함수 스펙 설명"
   ]
  },
  {
   "cell_type": "code",
   "execution_count": 3,
   "metadata": {
    "scrolled": true
   },
   "outputs": [
    {
     "name": "stdout",
     "output_type": "stream",
     "text": [
      "호가창 길이: 5\n"
     ]
    },
    {
     "data": {
      "text/plain": "464000    102\n465000    141\n466000    161\n467000     86\n468000     67\n469000      2\ndtype: int64"
     },
     "execution_count": 3,
     "metadata": {},
     "output_type": "execute_result"
    }
   ],
   "source": [
    "# reset -> 초기 호가정보 반환[5개의 time frame][매수 3호가 ~ 매도 3호가]\n",
    "order_books = env.reset()\n",
    "print(\"호가창 길이: {}\".format(len(order_books)))\n",
    "order_books[-1]"
   ]
  },
  {
   "cell_type": "code",
   "execution_count": 4,
   "metadata": {},
   "outputs": [
    {
     "data": {
      "text/plain": "{'total_step': 23, 'mission_buy': 300}"
     },
     "execution_count": 4,
     "metadata": {},
     "output_type": "execute_result"
    }
   ],
   "source": [
    "# mission_info -> 현재 episode 의 목표 구매 수량과 maximum time step\n",
    "env.mission_info()"
   ]
  },
  {
   "cell_type": "code",
   "execution_count": 6,
   "metadata": {
    "scrolled": true
   },
   "outputs": [
    {
     "data": {
      "text/plain": "469000    5\ndtype: int64"
     },
     "execution_count": 6,
     "metadata": {},
     "output_type": "execute_result"
    }
   ],
   "source": [
    "# step -> action(매수 1호가 주문, 매수 2호가 주문, 매수 3호가 주문, 시장가 주문) 을 받아 시뮬레이션을 처리\n",
    "# 편의상 step 후 체결되지 않은 주문은 모두 취소함을 가정합니다.\n",
    "# 반환 : 새로운 호가창 시퀀스(1~4번쨰는 이전 시퀀스의 2~5번쨰 항목과 동일), 이번 기 매수체결 정보, 전체 기 매수체결 정보. passed time(지난 observation 으로부터 경과한 시간, 단위:초)\n",
    "# 모든 주문은 기존에 호가창에 있는 대기 잔량이 체결된 후에 체결됩니다. 주문이 무조건적으로 체결되는 것이 아닙니다.\n",
    "# 필요 수량 이상으로 주문하는 경우 에러가 발생합니다.\n",
    "order_books, executed_this_step, executed_every_step, passed_time = env.step([30, 10, 20, 5])\n",
    "executed_this_step"
   ]
  },
  {
   "cell_type": "code",
   "execution_count": 7,
   "metadata": {
    "scrolled": true
   },
   "outputs": [
    {
     "data": {
      "text/plain": "[468000    110\n 469000     94\n 470000     24\n 471000    112\n 472000     97\n 473000     63\n dtype: int64,\n 468000     52\n 469000    194\n 470000    164\n 471000     85\n 472000    143\n 473000     24\n dtype: int64,\n 467000     35\n 468000    122\n 469000     72\n 470000    157\n 471000     75\n 472000     53\n dtype: int64,\n 467000     97\n 468000    197\n 469000    155\n 470000     28\n 471000    124\n 472000      3\n dtype: int64,\n 466000      8\n 467000      1\n 468000     24\n 469000    174\n 470000     61\n 471000    136\n dtype: int64,\n 468000     67\n 469000     31\n 470000    103\n 471000      1\n 472000    173\n 473000     75\n dtype: int64,\n 471000     60\n 472000    177\n 473000     63\n 474000    131\n 475000     77\n 476000    165\n dtype: int64,\n 468000     48\n 469000    186\n 470000    111\n 471000    122\n 472000    146\n 473000      8\n dtype: int64,\n 469000     72\n 470000     33\n 471000     32\n 472000    150\n 473000    145\n 474000    100\n dtype: int64,\n 469000    135\n 470000     82\n 471000      2\n 472000     47\n 473000     49\n 474000     66\n dtype: int64,\n 469000     15\n 470000    198\n 471000     45\n 472000     38\n 473000    177\n 474000     67\n dtype: int64,\n 468000    134\n 469000     73\n 470000    139\n 471000    160\n 472000    120\n 473000     78\n dtype: int64,\n 467000    170\n 468000     95\n 469000    142\n 470000     66\n 471000    178\n 472000    145\n dtype: int64,\n 470000    145\n 471000     83\n 472000    116\n 473000    169\n 474000    171\n 475000     80\n dtype: int64,\n 473000     61\n 474000    172\n 475000    155\n 476000    132\n 477000     85\n 478000     96\n dtype: int64,\n 473000    182\n 474000     51\n 475000    189\n 476000      4\n 477000    161\n 478000     60\n dtype: int64,\n 474000    145\n 475000    129\n 476000     35\n 477000    172\n 478000    164\n 479000     67\n dtype: int64,\n 477000     78\n 478000    162\n 479000     54\n 480000    117\n 481000     84\n 482000     25\n dtype: int64,\n 477000      1\n 478000    154\n 479000     30\n 480000     32\n 481000    126\n 482000    147\n dtype: int64,\n 480000     63\n 481000    193\n 482000     64\n 483000     47\n 484000     82\n 485000    183\n dtype: int64,\n 480000    98\n 481000    52\n 482000    69\n 483000     9\n 484000    38\n 485000    40\n dtype: int64]"
     },
     "execution_count": 7,
     "metadata": {},
     "output_type": "execute_result"
    }
   ],
   "source": [
    "# get_left_observation() 은 일종의 치트 메소드 입니다.\n",
    "# 현재부터 episode의 끝까지 발생할 다음 호가창 상태를 미리 알려줍니다.\n",
    "# (이 환경은 상태전이와 action의 독립을 가정하고 있습니다)\n",
    "env.get_left_observation()"
   ]
  },
  {
   "cell_type": "markdown",
   "metadata": {},
   "source": [
    "# Task - 리워드가 없는데요\n",
    "강화학습의 핵심은 reward입니다. <br/>\n",
    "하지만 보시다 시피 주문집행에서 reset과 step은 명시적인 reward를 반환하지 않습니다.(사소하지만 done 역시 마찬가지입니다.) <br/>\n",
    "기존 OrderSimulation class를 이용, 아래 형식에 맞추어 환경을 다시 정의해보십시오.<br/>\n",
    "\n",
    "\n",
    "*HINT* : 이 simulation은 학습을 위한 gym입니다. <br/>\n",
    "action을 결정하는 데는 사용해서는 안 되지만, reward를 계산하는 데 미래 데이터를 쓰는데 주저하지 마십시오!\n",
    "\n",
    "*WARNING* : 정답은 없습니다. 그럴 듯한 학습 목표를 세우는 데 초점을 맞추시면 됩니다."
   ]
  },
  {
   "cell_type": "code",
   "execution_count": 8,
   "metadata": {},
   "outputs": [],
   "source": [
    "class OrderEnv:\n",
    "    \n",
    "    # TODO\n",
    "    # return: state, reward, done, info\n",
    "    def reset(self, action):\n",
    "        raise NotImplementedError\n",
    "\n",
    "    # TODO\n",
    "    # return: state, reward, done, info\n",
    "    def step(self, action):\n",
    "        raise NotImplementedError"
   ]
  },
  {
   "cell_type": "markdown",
   "source": [
    "# Task2 - And then...?\n",
    "이제 본격적으로 해당 환경을 이용하여 학습 알고리즘을 짜봅시다.\n",
    "---\n",
    "*직접 구현하는 건 시간상으로도 불가능하고, Sample Gym 특성 상 실제와 유사한 동작을 보장할 수 없습니다.\n",
    "따라서, 지원자 분의 사고를 서술하는 것으로 대체합니다*\n",
    "\n",
    "1. `env.step()` 에서나 오는 마지막 반환값은 passed time, 지난 reset 혹은 step으로부터 경과한 시간을 의미합니다.\n",
    "  - **step**이 명확한 여타 gym 환경과는 달리, 주문집행 환경은 호가/체결이 발생하는 빈도가 일정하지 않습니다.\n",
    "  - 예를 들어, 장 시작으로부터 1초, 2초, 3초, 4초, 5초에 호가/체결이 하나씩 들어오는 케이스와 이\n",
    "  1초, 1시간 1초, 2시간 1초, 2시간 2초, 2시간 3초에 호가/체결 이 하나씩 들어오는 케이스는 observation 만으로는 구분되지 않습니다.\n",
    "  - 이 것이 기존의 강화학습 예제들과 비교하여 어떤 문제점을 야기할지, 해결방법이 떠오른다면 무엇일지 설명해주세요\n",
    "  - 만약 해결방법을 제시한다면, 최대한 구체적으로 적어주세요. 특히, 그 해결방법이 다른 새로운 문제를 야기하지는 않는지,\n",
    "  새로운 문제는 어떻게 해결할 수 있는지 꼬리에 꼬리를 무는 방식으로 적어주시면 더 좋습니다!"
   ],
   "metadata": {
    "collapsed": false,
    "pycharm": {
     "name": "#%% md\n"
    }
   }
  },
  {
   "cell_type": "markdown",
   "source": [],
   "metadata": {
    "collapsed": false,
    "pycharm": {
     "name": "#%% md\n"
    }
   }
  },
  {
   "cell_type": "markdown",
   "source": [
    "2. 문제 상황과 observation, 직접 정의하신 reward를 보았을 때 어떤 알고리즘이 먼저떠오르는지, 그 이유는 무엇인지 자유롭게 서술해주세요!"
   ],
   "metadata": {
    "collapsed": false,
    "pycharm": {
     "name": "#%% md\n"
    }
   }
  },
  {
   "cell_type": "code",
   "execution_count": null,
   "outputs": [],
   "source": [],
   "metadata": {
    "collapsed": false,
    "pycharm": {
     "name": "#%%md\n"
    }
   }
  }
 ],
 "metadata": {
  "kernelspec": {
   "display_name": "Python 3",
   "language": "python",
   "name": "python3"
  },
  "language_info": {
   "codemirror_mode": {
    "name": "ipython",
    "version": 3
   },
   "file_extension": ".py",
   "mimetype": "text/x-python",
   "name": "python",
   "nbconvert_exporter": "python",
   "pygments_lexer": "ipython3",
   "version": "3.7.6"
  }
 },
 "nbformat": 4,
 "nbformat_minor": 4
}