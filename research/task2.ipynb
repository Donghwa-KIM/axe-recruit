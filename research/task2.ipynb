{
 "cells": [
  {
   "cell_type": "markdown",
   "metadata": {},
   "source": [
    "# Task2 - 투자왕 태희\n",
    "만약 미래의 상태 전이를 알 수 없는 경우(예컨데 온라인 학습 상황)라면 어떻게 학습을 진행할 수 있을까요?\n"
   ]
  },
  {
   "cell_type": "code",
   "execution_count": 1,
   "metadata": {},
   "outputs": [],
   "source": [
    "from env import OrderSimulation2"
   ]
  },
  {
   "cell_type": "code",
   "execution_count": 2,
   "metadata": {},
   "outputs": [
    {
     "name": "stdout",
     "output_type": "stream",
     "text": [
      "'OrderSimulation2' object has no attribute 'get_left_observation'\n"
     ]
    },
    {
     "data": {
      "text/plain": [
       "[730000    162\n",
       " 731000    123\n",
       " 732000    101\n",
       " 733000     36\n",
       " 734000    144\n",
       " 735000     96\n",
       " dtype: int64,\n",
       " 730000     75\n",
       " 731000    108\n",
       " 732000    145\n",
       " 733000     72\n",
       " 734000     51\n",
       " 735000     72\n",
       " dtype: int64,\n",
       " 730000    165\n",
       " 731000     42\n",
       " 732000    167\n",
       " 733000    136\n",
       " 734000     46\n",
       " 735000     74\n",
       " dtype: int64,\n",
       " 730000     18\n",
       " 731000     10\n",
       " 732000    191\n",
       " 733000    180\n",
       " 734000     66\n",
       " 735000    185\n",
       " dtype: int64,\n",
       " 730000    184\n",
       " 731000    143\n",
       " 732000    129\n",
       " 733000    158\n",
       " 734000     78\n",
       " 735000    143\n",
       " dtype: int64]"
      ]
     },
     "execution_count": 2,
     "metadata": {},
     "output_type": "execute_result"
    }
   ],
   "source": [
    "# 이 환경은 미래 상태를 전혀 알 수 없습니다. 실제 동작 역시 step 시 마다 conditionally - stochastic하게 상태가 전이되는 형태입니다.\n",
    "env = OrderSimulation2()\n",
    "order_books= env.reset()\n",
    "try:\n",
    "    env.get_left_observation()\n",
    "except Exception as e:\n",
    "    print(e)\n",
    "order_books"
   ]
  },
  {
   "cell_type": "markdown",
   "metadata": {},
   "source": [
    "정말 막막한 상황입니다. 당장 학습을 해야 하는데, 시뮬레이션이 끝나기 전까지는 지금의 행동(주문)이 얼마나 효과적인 것이었는지 판단할 기준이 없습니다.<br/>\n",
    "하지만 불행중 다행히도 자신이 투자의 왕이라고 주장하는 '태희'라는 친구가 옆에서 코칭을 해 주겠다고 합니다! <br/>\n",
    "다시 강화학습을 시도할 수 있을까요?"
   ]
  },
  {
   "cell_type": "code",
   "execution_count": 3,
   "metadata": {},
   "outputs": [
    {
     "data": {
      "text/plain": [
       "array([9, 5, 3, 0])"
      ]
     },
     "execution_count": 3,
     "metadata": {},
     "output_type": "execute_result"
    }
   ],
   "source": [
    "# taehee_action -> 자신만의 투자 방식을 가지고 있는 '태희'의 action을 제시합니다.\n",
    "# '태희'는 믿을만한 투자의 고수입니다.\n",
    "taehee_action = env.taehee_action()\n",
    "taehee_action"
   ]
  },
  {
   "cell_type": "markdown",
   "metadata": {},
   "source": [
    "# Main Task: Reward 정의해내기\n",
    "'태희'가 우리의 투자에 대한 reward를 제시해주지는 않습니다. 다만 우리가 투자하는 순간에 옆에서 '나라면 이렇게 하겠어' 하고 훈수를 둘 뿐이죠, <br/>\n",
    " '태희'의 훈수를 기반으로 Reward를 명시적으로 알 지 못하는 환경의 학습을 설계하십시오(세부 알고리즘은 어떤 것이어도 상관 없습니다)"
   ]
  },
  {
   "cell_type": "code",
   "execution_count": null,
   "metadata": {},
   "outputs": [],
   "source": []
  }
 ],
 "metadata": {
  "kernelspec": {
   "display_name": "Python 3",
   "language": "python",
   "name": "python3"
  },
  "language_info": {
   "codemirror_mode": {
    "name": "ipython",
    "version": 3
   },
   "file_extension": ".py",
   "mimetype": "text/x-python",
   "name": "python",
   "nbconvert_exporter": "python",
   "pygments_lexer": "ipython3",
   "version": "3.7.6"
  }
 },
 "nbformat": 4,
 "nbformat_minor": 4
}
